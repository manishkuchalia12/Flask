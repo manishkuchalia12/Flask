{
 "cells": [
  {
   "cell_type": "markdown",
   "id": "8cfd3177-4ceb-40f7-b817-9e427145ed95",
   "metadata": {},
   "source": [
    "Q1. What is Flask Framework? What are the advantages of Flask Framework?\n",
    "Ans:-Flask is a micro web framework for Python that is lightweight and designed to be easy to use. It was created by Armin Ronacher and is widely used for developing web applications. \n",
    "Advantages \n",
    "1.Flask is unopinionated, meaning it doesn't impose a specific way of doing things. Developers have the freedom to choose the libraries and tools they prefer for tasks like database integration, authentication, and form handling.\n",
    "2. Flask is known for its simplicity and ease of use. It has a minimalistic design that allows developers to get started quickly and only use what is necessary for their application.\n",
    "3.Flask is unopinionated, meaning it doesn't impose a specific way of doing things. Developers have the freedom to choose the libraries and tools they prefer for tasks like database integration, authentication, and form handling."
   ]
  },
  {
   "cell_type": "markdown",
   "id": "c54cb591-4cf7-4472-93f0-254038af364c",
   "metadata": {},
   "source": [
    "Q2. Create a simple Flask application to display ‘Hello World!!’. "
   ]
  },
  {
   "cell_type": "markdown",
   "id": "51785425-f265-4168-9cdf-c93e6211bb65",
   "metadata": {},
   "source": [
    "from flask import Flask\n",
    "\n",
    "app = Flask(__name__)\n",
    "\n",
    "@app.route('/')\n",
    "def hello_world():\n",
    "    return 'Hello World!!'\n",
    "\n",
    "if __name__ == '__main__':\n",
    "    app.run(debug=True)\n"
   ]
  },
  {
   "cell_type": "markdown",
   "id": "45b917b6-91e3-486c-93c5-936a3cac2772",
   "metadata": {},
   "source": [
    "Q3. What is App routing in Flask? Why do we use app routes?\n",
    "Ans:- app routing refers to the process of defining URL patterns (routes) that map to specific functions (view functions) in your application. These routes determine how the application responds to different HTTP requests. The @app.route decorator is commonly used for defining routes in Flask.\n",
    "Why do we use app routes in Flask?\r",
    "\r\n",
    "Organizing Code: App routes help organize your code by associating specific functionalities with distinct URL patterns. This makes your application modular and easier to maintain\r\n",
    "\r\n",
    "Separation of Concerns: Flask follows the principle of separation of concerns, and app routes contribute to this by separating different parts of your application logic based on their functionalites.\r\n",
    "\r\n",
    "URL Structure: App routes allow you to define a logical and meaningful URL structure for your web application, making it more user-friendly and understandable."
   ]
  },
  {
   "cell_type": "markdown",
   "id": "4d2a9693-5418-4675-bcaf-b58633e256af",
   "metadata": {},
   "source": [
    "Q4. Create a “/welcome” route to display the welcome message “Welcome to ABC Corporation” and a “/”\n",
    "route to show the following details:\n",
    "Company Name: ABC Corporation\n",
    "Location: India\n",
    "Contact Detail: 999-999-9999\n"
   ]
  },
  {
   "cell_type": "code",
   "execution_count": null,
   "id": "e0852129-c495-4bfe-ba06-701f4d549ac8",
   "metadata": {},
   "outputs": [],
   "source": [
    "from flask import Flask\n",
    "\n",
    "app = Flask(__name__)\n",
    "\n",
    "@app.route('/welcome')\n",
    "def welcome():\n",
    "    return 'Welcome to ABC Corporation'\n",
    "\n",
    "@app.route('/')\n",
    "def company_details():\n",
    "    return '''\n",
    "    Company Name: ABC Corporation\n",
    "    Location: India\n",
    "    Contact Detail: 999-999-9999\n",
    "    '''\n",
    "\n",
    "if __name__ == '__main__':\n",
    "    app.run(debug=True)\n"
   ]
  },
  {
   "cell_type": "markdown",
   "id": "6069d769-ee4b-47de-84ba-155902b92e29",
   "metadata": {},
   "source": [
    "Q5. What function is used in Flask for URL Building? Write a Python code to demonstrate the working of the\n",
    "url_for() function.\n",
    "Ans:- the url_for() function is used for URL building. It generates a URL for the specified endpoint, and it takes the endpoint name as an argument. This is particularly useful because it allows you to build URLs dynamically and avoids hardcoding URLs in your templates or code.\n"
   ]
  },
  {
   "cell_type": "code",
   "execution_count": null,
   "id": "a1a4b0c7-32ad-4e90-86ef-01d65975df3e",
   "metadata": {},
   "outputs": [],
   "source": [
    "from flask import Flask, url_for\n",
    "\n",
    "app = Flask(__name__)\n",
    "\n",
    "@app.route('/')\n",
    "def home():\n",
    "    return 'Welcome to the home page'\n",
    "\n",
    "@app.route('/about')\n",
    "def about():\n",
    "    return 'This is the about page'\n",
    "\n",
    "@app.route('/contact')\n",
    "def contact():\n",
    "    return 'Contact us at contact@example.com'\n",
    "\n",
    "@app.route('/user/<username>')\n",
    "def profile(username):\n",
    "    return f'Profile for {username}'\n",
    "\n",
    "if __name__ == '__main__':\n",
    "    with app.test_request_context():\n",
    "        # Demonstrate url_for() usage\n",
    "        print(\"URL for home():\", url_for('home'))\n",
    "        print(\"URL for about():\", url_for('about'))\n",
    "        print(\"URL for contact():\", url_for('contact'))\n",
    "        print(\"URL for profile():\", url_for('profile', username='john_doe'))\n"
   ]
  }
 ],
 "metadata": {
  "kernelspec": {
   "display_name": "Python 3 (ipykernel)",
   "language": "python",
   "name": "python3"
  },
  "language_info": {
   "codemirror_mode": {
    "name": "ipython",
    "version": 3
   },
   "file_extension": ".py",
   "mimetype": "text/x-python",
   "name": "python",
   "nbconvert_exporter": "python",
   "pygments_lexer": "ipython3",
   "version": "3.12.0"
  }
 },
 "nbformat": 4,
 "nbformat_minor": 5
}
